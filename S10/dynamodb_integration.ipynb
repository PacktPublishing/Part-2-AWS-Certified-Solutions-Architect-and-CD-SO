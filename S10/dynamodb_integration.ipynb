{
 "cells": [
  {
   "cell_type": "code",
   "execution_count": null,
   "metadata": {},
   "outputs": [],
   "source": [
    "import boto3\n",
    "import json\n",
    "import decimal\n",
    "from boto3.dynamodb.conditions import Key, Attr"
   ]
  },
  {
   "cell_type": "raw",
   "metadata": {},
   "source": [
    "Getting Started With Amazon DynamoDB\n",
    "Examples:\n",
    "http://docs.aws.amazon.com/amazondynamodb/latest/gettingstartedguide/GettingStarted.Python.01.html?shortFooter=true"
   ]
  },
  {
   "cell_type": "code",
   "execution_count": null,
   "metadata": {},
   "outputs": [],
   "source": [
    "# Identify the profile to use for this session\n",
    "session = boto3.Session(profile_name='myadmin')"
   ]
  },
  {
   "cell_type": "code",
   "execution_count": null,
   "metadata": {},
   "outputs": [],
   "source": [
    "dynamodb = session.resource('dynamodb', region_name='us-west-2')"
   ]
  },
  {
   "cell_type": "code",
   "execution_count": null,
   "metadata": {},
   "outputs": [],
   "source": [
    "def create_movie_table():\n",
    "    table = dynamodb.create_table(\n",
    "    TableName='Movies',\n",
    "    KeySchema=[\n",
    "        {\n",
    "            'AttributeName': 'year',\n",
    "            'KeyType': 'HASH'  #Partition key\n",
    "        },\n",
    "        {\n",
    "            'AttributeName': 'title',\n",
    "            'KeyType': 'RANGE'  #Sort key\n",
    "        }\n",
    "    ],\n",
    "    AttributeDefinitions=[\n",
    "        {\n",
    "            'AttributeName': 'year',\n",
    "            'AttributeType': 'N'\n",
    "        },\n",
    "        {\n",
    "            'AttributeName': 'title',\n",
    "            'AttributeType': 'S'\n",
    "        },\n",
    "\n",
    "    ],\n",
    "    ProvisionedThroughput={\n",
    "        'ReadCapacityUnits': 5,\n",
    "        'WriteCapacityUnits': 5\n",
    "    }\n",
    "    )"
   ]
  },
  {
   "cell_type": "code",
   "execution_count": null,
   "metadata": {},
   "outputs": [],
   "source": [
    "create_movie_table()"
   ]
  },
  {
   "cell_type": "code",
   "execution_count": null,
   "metadata": {},
   "outputs": [],
   "source": [
    "def load_movie_data(movie_data_location):\n",
    "    table = dynamodb.Table('Movies')\n",
    "    \n",
    "    how_many_to_load = 100\n",
    "    \n",
    "    with open(movie_data_location) as json_file:\n",
    "        movies = json.load(json_file, parse_float = decimal.Decimal)\n",
    "        for movie in movies[:how_many_to_load]:\n",
    "            \n",
    "            year = int(movie['year'])\n",
    "            title = movie['title']\n",
    "            info = movie['info']\n",
    "\n",
    "            print(\"Adding movie:\", year, title)\n",
    "\n",
    "            table.put_item(\n",
    "               Item={\n",
    "                   'year': year,\n",
    "                   'title': title,\n",
    "                   'info': info,\n",
    "                }\n",
    "            )"
   ]
  },
  {
   "cell_type": "code",
   "execution_count": null,
   "metadata": {},
   "outputs": [],
   "source": [
    "movie_data_location = r'C:\\AWSCertificationCourse\\Demo\\CloudDatabaseServices\\movie_data\\moviedata.json'\n",
    "load_movie_data(movie_data_location)"
   ]
  },
  {
   "cell_type": "code",
   "execution_count": null,
   "metadata": {},
   "outputs": [],
   "source": [
    "# Helper class to convert a DynamoDB item to JSON.\n",
    "class DecimalEncoder(json.JSONEncoder):\n",
    "    def default(self, o):\n",
    "        if isinstance(o, decimal.Decimal):\n",
    "            if o % 1 > 0:\n",
    "                return float(o)\n",
    "            else:\n",
    "                return int(o)\n",
    "        return super(DecimalEncoder, self).default(o)"
   ]
  },
  {
   "cell_type": "code",
   "execution_count": null,
   "metadata": {},
   "outputs": [],
   "source": [
    "def get_movie(year, title):\n",
    "    table = dynamodb.Table('Movies')\n",
    "    \n",
    "    try:\n",
    "        response = table.get_item(\n",
    "            Key={\n",
    "                'year': year,\n",
    "                'title': title\n",
    "            }\n",
    "        )\n",
    "    except ClientError as e:\n",
    "        print(e.response['Error']['Message'])\n",
    "    else:        \n",
    "        if 'Item' in response:\n",
    "            item = response['Item']\n",
    "            print(\"GetItem succeeded:\")\n",
    "            print(json.dumps(item, indent=4, cls=DecimalEncoder))\n",
    "        else:\n",
    "            print('Movie not found')\n",
    "    "
   ]
  },
  {
   "cell_type": "code",
   "execution_count": null,
   "metadata": {},
   "outputs": [],
   "source": [
    "get_movie(year=2013,title='Rush')"
   ]
  },
  {
   "cell_type": "code",
   "execution_count": null,
   "metadata": {},
   "outputs": [],
   "source": [
    "def query_movies(year):\n",
    "    table = dynamodb.Table('Movies')\n",
    "\n",
    "    print(\"Movies from {0}\".format(year))\n",
    "\n",
    "    response = table.query(\n",
    "        KeyConditionExpression=Key('year').eq(year)\n",
    "    )\n",
    "\n",
    "    for i in response['Items']:\n",
    "        print(i['year'], \":\", i['title'])"
   ]
  },
  {
   "cell_type": "code",
   "execution_count": null,
   "metadata": {},
   "outputs": [],
   "source": [
    "query_movies(2012)"
   ]
  },
  {
   "cell_type": "code",
   "execution_count": null,
   "metadata": {},
   "outputs": [],
   "source": [
    "def query_movies_by_year_title_prefix(year, start_letter, end_letter):\n",
    "    table = dynamodb.Table('Movies')\n",
    "\n",
    "    print(\"Movies from {0} - titles {1}-{2}, with genres and lead actor\".format(year, start_letter, end_letter))\n",
    "\n",
    "    response = table.query(\n",
    "        ProjectionExpression=\"#yr, title, info.genres, info.actors[0]\",\n",
    "        ExpressionAttributeNames={ \"#yr\": \"year\" }, # Expression Attribute Names for Projection Expression only.\n",
    "        KeyConditionExpression=Key('year').eq(year) & Key('title').between(start_letter, end_letter)\n",
    "    )\n",
    "\n",
    "    for i in response[u'Items']:\n",
    "        print(json.dumps(i, indent=4, cls=DecimalEncoder))"
   ]
  },
  {
   "cell_type": "code",
   "execution_count": null,
   "metadata": {},
   "outputs": [],
   "source": [
    "query_movies_by_year_title_prefix(2013, 'A','D')"
   ]
  },
  {
   "cell_type": "code",
   "execution_count": null,
   "metadata": {},
   "outputs": [],
   "source": [
    "table = dynamodb.Table('Movies')"
   ]
  },
  {
   "cell_type": "code",
   "execution_count": null,
   "metadata": {},
   "outputs": [],
   "source": [
    "# Add one movie\n",
    "title = \"The Big New Movie\"\n",
    "year = 2015\n",
    "\n",
    "response = table.put_item(\n",
    "   Item={\n",
    "        'year': year,\n",
    "        'title': title,\n",
    "        'info': {\n",
    "            'plot':\"Nothing happens at all.\",\n",
    "            'rating': decimal.Decimal(0)\n",
    "        }\n",
    "    }\n",
    ")\n",
    "\n",
    "print(\"PutItem succeeded:\")\n",
    "print(json.dumps(response, indent=4, cls=DecimalEncoder))"
   ]
  },
  {
   "cell_type": "code",
   "execution_count": null,
   "metadata": {},
   "outputs": [],
   "source": [
    "get_movie(year=2015, title= \"The Big New Movie\")"
   ]
  },
  {
   "cell_type": "code",
   "execution_count": null,
   "metadata": {},
   "outputs": [],
   "source": [
    "# Update one movie\n",
    "title = \"The Big New Movie\"\n",
    "year = 2015\n",
    "\n",
    "response = table.update_item(\n",
    "    Key={\n",
    "        'year': year,\n",
    "        'title': title\n",
    "    },\n",
    "    UpdateExpression=\"set info.rating = :r, info.plot=:p, info.actors=:a\",\n",
    "    ExpressionAttributeValues={\n",
    "        ':r': decimal.Decimal(8.5),\n",
    "        ':p': \"Everything happens all at once.\",\n",
    "        ':a': [\"Larry\", \"Moe\", \"Curly\"]\n",
    "    },\n",
    "    ReturnValues=\"UPDATED_NEW\"\n",
    ")\n",
    "\n",
    "print(\"UpdateItem succeeded:\")\n",
    "print(json.dumps(response, indent=4, cls=DecimalEncoder))    "
   ]
  },
  {
   "cell_type": "code",
   "execution_count": null,
   "metadata": {},
   "outputs": [],
   "source": [
    "# Increment Counter\n",
    "title = \"The Big New Movie\"\n",
    "year = 2015\n",
    "\n",
    "response = table.update_item(\n",
    "    Key={\n",
    "        'year': year,\n",
    "        'title': title\n",
    "    },\n",
    "    UpdateExpression=\"set info.rating = info.rating + :val\",\n",
    "    ExpressionAttributeValues={\n",
    "        ':val': decimal.Decimal(1)\n",
    "    },\n",
    "    ReturnValues=\"UPDATED_NEW\"\n",
    ")\n",
    "\n",
    "print(\"UpdateItem succeeded:\")\n",
    "print(json.dumps(response, indent=4, cls=DecimalEncoder))"
   ]
  },
  {
   "cell_type": "code",
   "execution_count": null,
   "metadata": {},
   "outputs": [],
   "source": [
    "get_movie(year=2015, title= \"The Big New Movie\")"
   ]
  },
  {
   "cell_type": "code",
   "execution_count": null,
   "metadata": {},
   "outputs": [],
   "source": [
    "# Delete a movie\n",
    "title = \"The Big New Movie\"\n",
    "year = 2015\n",
    "\n",
    "response = table.delete_item(\n",
    "    Key={\n",
    "        'year': year,\n",
    "        'title': title\n",
    "    }\n",
    ")\n",
    "\n",
    "print(\"UpdateItem succeeded:\")\n",
    "print(json.dumps(response, indent=4, cls=DecimalEncoder))    "
   ]
  },
  {
   "cell_type": "code",
   "execution_count": null,
   "metadata": {},
   "outputs": [],
   "source": []
  }
 ],
 "metadata": {
  "kernelspec": {
   "display_name": "Python 3",
   "language": "python",
   "name": "python3"
  },
  "language_info": {
   "codemirror_mode": {
    "name": "ipython",
    "version": 3
   },
   "file_extension": ".py",
   "mimetype": "text/x-python",
   "name": "python",
   "nbconvert_exporter": "python",
   "pygments_lexer": "ipython3",
   "version": "3.7.1"
  }
 },
 "nbformat": 4,
 "nbformat_minor": 2
}
